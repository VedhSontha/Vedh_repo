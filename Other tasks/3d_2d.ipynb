version https://git-lfs.github.com/spec/v1
oid sha256:f527f36b37d037a7b7beb7c910304160c2a78ac25e76ec5c96a11f4abcbdfb24
size 1143

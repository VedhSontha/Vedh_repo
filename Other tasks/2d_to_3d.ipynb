{
 "cells": [
  {
   "cell_type": "code",
   "execution_count": 4,
   "id": "f8a68f86-25b1-4dc5-baf2-402645179872",
   "metadata": {},
   "outputs": [
    {
     "name": "stderr",
     "output_type": "stream",
     "text": [
      "Using cache found in C:\\Users\\vedhr/.cache\\torch\\hub\\intel-isl_MiDaS_master\n"
     ]
    },
    {
     "name": "stdout",
     "output_type": "stream",
     "text": [
      "Input tensor shape: torch.Size([1, 3, 384, 384])\n"
     ]
    },
    {
     "name": "stderr",
     "output_type": "stream",
     "text": [
      "Using cache found in C:\\Users\\vedhr/.cache\\torch\\hub\\intel-isl_MiDaS_master\n"
     ]
    },
    {
     "ename": "IndexError",
     "evalue": "boolean index did not match indexed array along dimension 0; dimension is 147456 but corresponding boolean dimension is 262144",
     "output_type": "error",
     "traceback": [
      "\u001b[1;31m---------------------------------------------------------------------------\u001b[0m",
      "\u001b[1;31mIndexError\u001b[0m                                Traceback (most recent call last)",
      "Cell \u001b[1;32mIn[4], line 69\u001b[0m\n\u001b[0;32m     67\u001b[0m \u001b[38;5;66;03m# Optional: mask out background (white)\u001b[39;00m\n\u001b[0;32m     68\u001b[0m mask \u001b[38;5;241m=\u001b[39m np\u001b[38;5;241m.\u001b[39mmean(img_rgb, axis\u001b[38;5;241m=\u001b[39m\u001b[38;5;241m2\u001b[39m) \u001b[38;5;241m<\u001b[39m \u001b[38;5;241m250\u001b[39m\n\u001b[1;32m---> 69\u001b[0m points \u001b[38;5;241m=\u001b[39m \u001b[43mpoints\u001b[49m\u001b[43m[\u001b[49m\u001b[43mmask\u001b[49m\u001b[38;5;241;43m.\u001b[39;49m\u001b[43mflatten\u001b[49m\u001b[43m(\u001b[49m\u001b[43m)\u001b[49m\u001b[43m]\u001b[49m\n\u001b[0;32m     71\u001b[0m \u001b[38;5;66;03m# --- Step 4: Visualize Point Cloud ---\u001b[39;00m\n\u001b[0;32m     72\u001b[0m pcd \u001b[38;5;241m=\u001b[39m o3d\u001b[38;5;241m.\u001b[39mgeometry\u001b[38;5;241m.\u001b[39mPointCloud()\n",
      "\u001b[1;31mIndexError\u001b[0m: boolean index did not match indexed array along dimension 0; dimension is 147456 but corresponding boolean dimension is 262144"
     ]
    }
   ],
   "source": [
    "import tkinter as tk\n",
    "from PIL import Image, ImageDraw\n",
    "import numpy as np\n",
    "import cv2\n",
    "import torch\n",
    "import open3d as o3d\n",
    "\n",
    "# --- Step 1: Drawing Canvas (Tkinter) ---\n",
    "WIDTH, HEIGHT = 512, 512\n",
    "\n",
    "class PaintApp:\n",
    "    def __init__(self, root):\n",
    "        self.image = Image.new(\"RGB\", (WIDTH, HEIGHT), \"white\")\n",
    "        self.draw = ImageDraw.Draw(self.image)\n",
    "        self.last = None\n",
    "        self.canvas = tk.Canvas(root, width=WIDTH, height=HEIGHT, bg='white')\n",
    "        self.canvas.pack()\n",
    "        self.canvas.bind(\"<B1-Motion>\", self.paint)\n",
    "        self.canvas.bind(\"<ButtonRelease-1>\", self.reset)\n",
    "        self.save_btn = tk.Button(root, text=\"Generate PointCloud\", command=self.save_and_exit)\n",
    "        self.save_btn.pack()\n",
    "        self.quit = False\n",
    "\n",
    "    def paint(self, event):\n",
    "        if self.last is not None:\n",
    "            self.canvas.create_line(self.last[0], self.last[1], event.x, event.y, fill='black', width=4)\n",
    "            self.draw.line([self.last, (event.x, event.y)], fill='black', width=12)\n",
    "        self.last = (event.x, event.y)\n",
    "\n",
    "    def reset(self, event):\n",
    "        self.last = None\n",
    "\n",
    "    def save_and_exit(self):\n",
    "        self.image.save('canvas.png')\n",
    "        self.quit = True\n",
    "        root.quit()\n",
    "\n",
    "root = tk.Tk()\n",
    "root.title(\"Draw your shape and click 'Generate PointCloud'\")\n",
    "app = PaintApp(root)\n",
    "root.mainloop()\n",
    "\n",
    "# --- Step 2: Run MiDaS on GPU for Depth Estimation ---\n",
    "device = 'cuda' if torch.cuda.is_available() else 'cpu'\n",
    "midas = torch.hub.load(\"intel-isl/MiDaS\", \"DPT_Large\", pretrained=True).to(device)\n",
    "midas.eval()\n",
    "transform = torch.hub.load(\"intel-isl/MiDaS\", \"transforms\").dpt_transform\n",
    "\n",
    "img = cv2.imread(\"canvas.png\")\n",
    "if img is None:\n",
    "    raise ValueError(\"Failed to load image. Check if 'canvas.png' exists.\")\n",
    "if len(img.shape) == 2:  # grayscale\n",
    "    img = cv2.cvtColor(img, cv2.COLOR_GRAY2BGR)\n",
    "img_rgb = cv2.cvtColor(img, cv2.COLOR_BGR2RGB)\n",
    "\n",
    "input_tensor = transform(img_rgb).to(device)\n",
    "print(\"Input tensor shape:\", input_tensor.shape)  # Should be (1, 3, H, W)\n",
    "\n",
    "with torch.no_grad():\n",
    "    depth = midas(input_tensor)[0].cpu().numpy()\n",
    "\n",
    "# --- Step 3: Convert Depth to 3D Point Cloud ---\n",
    "h, w = depth.shape\n",
    "x, y = np.meshgrid(np.arange(w), np.arange(h))\n",
    "points = np.stack([x.flatten(), y.flatten(), depth.flatten()], axis=1)\n",
    "\n",
    "# Optional: mask out background (white)\n",
    "mask = np.mean(img_rgb, axis=2) < 250\n",
    "points = points[mask.flatten()]\n",
    "\n",
    "# --- Step 4: Visualize Point Cloud ---\n",
    "pcd = o3d.geometry.PointCloud()\n",
    "pcd.points = o3d.utility.Vector3dVector(points)\n",
    "colors = img_rgb[mask]\n",
    "colors = colors / 255.0\n",
    "if colors.shape[0] == points.shape[0]:\n",
    "    pcd.colors = o3d.utility.Vector3dVector(colors)\n",
    "o3d.visualization.draw_geometries([pcd])"
   ]
  },
  {
   "cell_type": "code",
   "execution_count": 1,
   "id": "c7b0d0e1-9815-4f21-9727-249811553ce0",
   "metadata": {},
   "outputs": [
    {
     "name": "stdout",
     "output_type": "stream",
     "text": [
      "Jupyter environment detected. Enabling Open3D WebVisualizer.\n",
      "[Open3D INFO] WebRTC GUI backend enabled.\n",
      "[Open3D INFO] WebRTCWindowSystem: HTTP handshake server disabled.\n"
     ]
    },
    {
     "name": "stderr",
     "output_type": "stream",
     "text": [
      "Using cache found in C:\\Users\\vedhr/.cache\\torch\\hub\\intel-isl_MiDaS_master\n",
      "C:\\Users\\vedhr\\AppData\\Local\\Programs\\Python\\Python310\\lib\\site-packages\\timm\\models\\layers\\__init__.py:48: FutureWarning: Importing from timm.models.layers is deprecated, please import via timm.layers\n",
      "  warnings.warn(f\"Importing from {__name__} is deprecated, please import via timm.layers\", FutureWarning)\n",
      "Using cache found in C:\\Users\\vedhr/.cache\\torch\\hub\\intel-isl_MiDaS_master\n"
     ]
    },
    {
     "name": "stdout",
     "output_type": "stream",
     "text": [
      "Input tensor shape: torch.Size([1, 3, 384, 384])\n"
     ]
    }
   ],
   "source": [
    "import tkinter as tk\n",
    "from PIL import Image, ImageDraw\n",
    "import numpy as np\n",
    "import cv2\n",
    "import torch\n",
    "import open3d as o3d\n",
    "\n",
    "# --- Step 1: Drawing Canvas (Tkinter) ---\n",
    "WIDTH, HEIGHT = 512, 512\n",
    "\n",
    "class PaintApp:\n",
    "    def __init__(self, root):\n",
    "        self.image = Image.new(\"RGB\", (WIDTH, HEIGHT), \"white\")\n",
    "        self.draw = ImageDraw.Draw(self.image)\n",
    "        self.last = None\n",
    "        self.canvas = tk.Canvas(root, width=WIDTH, height=HEIGHT, bg='white')\n",
    "        self.canvas.pack()\n",
    "        self.canvas.bind(\"<B1-Motion>\", self.paint)\n",
    "        self.canvas.bind(\"<ButtonRelease-1>\", self.reset)\n",
    "        self.save_btn = tk.Button(root, text=\"Generate PointCloud\", command=self.save_and_exit)\n",
    "        self.save_btn.pack()\n",
    "        self.quit = False\n",
    "\n",
    "    def paint(self, event):\n",
    "        if self.last is not None:\n",
    "            self.canvas.create_line(self.last[0], self.last[1], event.x, event.y, fill='black', width=4)\n",
    "            self.draw.line([self.last, (event.x, event.y)], fill='black', width=12)\n",
    "        self.last = (event.x, event.y)\n",
    "\n",
    "    def reset(self, event):\n",
    "        self.last = None\n",
    "\n",
    "    def save_and_exit(self):\n",
    "        self.image.save('canvas.png')\n",
    "        self.quit = True\n",
    "        root.quit()\n",
    "\n",
    "root = tk.Tk()\n",
    "root.title(\"Draw your shape and click 'Generate PointCloud'\")\n",
    "app = PaintApp(root)\n",
    "root.mainloop()\n",
    "\n",
    "# --- Step 2: Run MiDaS on GPU for Depth Estimation ---\n",
    "device = 'cuda' if torch.cuda.is_available() else 'cpu'\n",
    "midas = torch.hub.load(\"intel-isl/MiDaS\", \"DPT_Large\", pretrained=True).to(device)\n",
    "midas.eval()\n",
    "transform = torch.hub.load(\"intel-isl/MiDaS\", \"transforms\").dpt_transform\n",
    "\n",
    "img = cv2.imread(\"canvas.png\")\n",
    "if img is None:\n",
    "    raise ValueError(\"Failed to load image. Check if 'canvas.png' exists.\")\n",
    "if len(img.shape) == 2:  # grayscale\n",
    "    img = cv2.cvtColor(img, cv2.COLOR_GRAY2BGR)\n",
    "img_rgb = cv2.cvtColor(img, cv2.COLOR_BGR2RGB)\n",
    "\n",
    "# Resize to MiDaS input size (384x384 for DPT_Large)\n",
    "TARGET_SIZE = 384\n",
    "img_resized = cv2.resize(img_rgb, (TARGET_SIZE, TARGET_SIZE), interpolation=cv2.INTER_CUBIC)\n",
    "\n",
    "input_tensor = transform(img_resized).to(device)\n",
    "print(\"Input tensor shape:\", input_tensor.shape)  # Should be (1, 3, 384, 384)\n",
    "\n",
    "with torch.no_grad():\n",
    "    depth = midas(input_tensor)[0].cpu().numpy()\n",
    "\n",
    "# --- Step 3: Convert Depth to 3D Point Cloud ---\n",
    "h, w = depth.shape\n",
    "x, y = np.meshgrid(np.arange(w), np.arange(h))\n",
    "points = np.stack([x.flatten(), y.flatten(), depth.flatten()], axis=1)\n",
    "\n",
    "# Optional: mask out background (white)\n",
    "mask = np.mean(img_resized, axis=2) < 250\n",
    "points = points[mask.flatten()]\n",
    "# --- Step 4: Visualize Point Cloud\n",
    "pcd = o3d.geometry.PointCloud()\n",
    "pcd.points = o3d.utility.Vector3dVector(points)\n",
    "colors = img_resized[mask]\n",
    "colors = colors / 255.0\n",
    "if colors.shape[0] == points.shape[0]:\n",
    "    pcd.colors = o3d.utility.Vector3dVector(colors)\n",
    "o3d.visualization.draw_geometries([pcd])"
   ]
  },
  {
   "cell_type": "code",
   "execution_count": null,
   "id": "ac4df87d-41e7-40d9-8fa1-62c2ffd135a9",
   "metadata": {},
   "outputs": [],
   "source": []
  }
 ],
 "metadata": {
  "kernelspec": {
   "display_name": "Python 3.10 (GPU)",
   "language": "python",
   "name": "pytorch-gpu-2.5"
  },
  "language_info": {
   "codemirror_mode": {
    "name": "ipython",
    "version": 3
   },
   "file_extension": ".py",
   "mimetype": "text/x-python",
   "name": "python",
   "nbconvert_exporter": "python",
   "pygments_lexer": "ipython3",
   "version": "3.10.0"
  }
 },
 "nbformat": 4,
 "nbformat_minor": 5
}

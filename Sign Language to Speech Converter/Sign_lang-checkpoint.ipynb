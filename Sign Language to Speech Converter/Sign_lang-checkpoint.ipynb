version https://git-lfs.github.com/spec/v1
oid sha256:a2c09ffbc96af068fc5b11d16b5307d7d5e41a2aaaa250ce6e686bb7e89ddd73
size 21444

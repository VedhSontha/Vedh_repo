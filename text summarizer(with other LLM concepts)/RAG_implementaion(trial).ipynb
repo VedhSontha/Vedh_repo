{
 "cells": [
  {
   "cell_type": "code",
   "execution_count": 1,
   "id": "7e8cd481-727f-4989-8d7b-88a774bb865e",
   "metadata": {},
   "outputs": [
    {
     "name": "stdout",
     "output_type": "stream",
     "text": [
      "hello\n"
     ]
    }
   ],
   "source": [
    "print(\"hello\")\n"
   ]
  },
  {
   "cell_type": "code",
   "execution_count": null,
   "id": "b21f115b-dfce-4609-8194-3ab9743e406b",
   "metadata": {},
   "outputs": [],
   "source": []
  }
 ],
 "metadata": {
  "kernelspec": {
   "display_name": "Python 3.10 (CNN)",
   "language": "python",
   "name": "python310-cnn"
  },
  "language_info": {
   "codemirror_mode": {
    "name": "ipython",
    "version": 3
   },
   "file_extension": ".py",
   "mimetype": "text/x-python",
   "name": "python",
   "nbconvert_exporter": "python",
   "pygments_lexer": "ipython3",
   "version": "3.10.0"
  }
 },
 "nbformat": 4,
 "nbformat_minor": 5
}
